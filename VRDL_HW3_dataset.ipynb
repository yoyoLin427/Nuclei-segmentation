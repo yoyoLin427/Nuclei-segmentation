{
  "nbformat": 4,
  "nbformat_minor": 0,
  "metadata": {
    "colab": {
      "name": "VRDL_HW3_dataset.ipynb",
      "provenance": [],
      "machine_shape": "hm"
    },
    "kernelspec": {
      "name": "python3",
      "display_name": "Python 3"
    },
    "language_info": {
      "name": "python"
    }
  },
  "cells": [
    {
      "cell_type": "markdown",
      "source": [
        "# 資料處理"
      ],
      "metadata": {
        "id": "y8L-NImn3lbJ"
      }
    },
    {
      "cell_type": "code",
      "execution_count": null,
      "metadata": {
        "colab": {
          "base_uri": "https://localhost:8080/"
        },
        "id": "TBjfRc8k3fZ_",
        "outputId": "59f12cdf-a2a6-4b68-d295-d45a66be04f4"
      },
      "outputs": [
        {
          "output_type": "stream",
          "name": "stdout",
          "text": [
            "Mounted at /content/gdrive\n"
          ]
        }
      ],
      "source": [
        "from google.colab import drive\n",
        "drive.mount('/content/gdrive',force_remount=True)"
      ]
    },
    {
      "cell_type": "code",
      "source": [
        "import os\n",
        "filepath = '/content/gdrive/MyDrive/VRDL_HW3'\n",
        "\n",
        "if os.path.isdir(filepath):\n",
        "  print(filepath+' exists')\n",
        "else:\n",
        "  print(filepath+' does not exist.')\n",
        "  os.makedirs(filepath)"
      ],
      "metadata": {
        "colab": {
          "base_uri": "https://localhost:8080/"
        },
        "id": "VlUXzdEO4gUR",
        "outputId": "efa5441a-2247-4d39-b082-819ef5a71378"
      },
      "execution_count": null,
      "outputs": [
        {
          "output_type": "stream",
          "name": "stdout",
          "text": [
            "/content/gdrive/MyDrive/VRDL_HW3 exists\n"
          ]
        }
      ]
    },
    {
      "cell_type": "code",
      "source": [
        "import os\n",
        "filepath = '/content/gdrive/MyDrive/VRDL_HW3/dataset'\n",
        "\n",
        "if os.path.isdir(filepath):\n",
        "  print(filepath+' exists')\n",
        "else:\n",
        "  print(filepath+' does not exist.')\n",
        "  os.makedirs(filepath)\n",
        "\n",
        "  #下載作業提供的data\n",
        "  from google_drive_downloader import GoogleDriveDownloader as gdd\n",
        "\n",
        "  gdd.download_file_from_google_drive(file_id='1bU7pdDGdIIYi-PxL7bP5yYQYgyuNJyp7',\n",
        "                                      dest_path='/content/gdrive/MyDrive/VRDL_HW3/dataset.zip',\n",
        "                                      unzip=False)\n",
        "  !unzip /content/gdrive/MyDrive/VRDL_HW3/dataset.zip -d /content/gdrive/MyDrive/VRDL_HW3"
      ],
      "metadata": {
        "colab": {
          "base_uri": "https://localhost:8080/"
        },
        "id": "uJOtAzwb58xN",
        "outputId": "6ab5fd44-51ff-477d-c5d1-746f11cfef5d"
      },
      "execution_count": null,
      "outputs": [
        {
          "output_type": "stream",
          "name": "stdout",
          "text": [
            "/content/gdrive/MyDrive/VRDL_HW3/dataset exists\n"
          ]
        }
      ]
    },
    {
      "cell_type": "markdown",
      "source": [
        "![image.png](data:image/png;base64,iVBORw0KGgoAAAANSUhEUgAAASQAAAGzCAYAAACGmmoXAAAAAXNSR0IArs4c6QAAAARnQU1BAACxjwv8YQUAAAAJcEhZcwAADsMAAA7DAcdvqGQAAD1iSURBVHhe7d0HdBVVtwfwDaE3KYoUQRKpAoL0EkSq9CZI8wuIICBSRGmCoFKDCwWFDxZIt0DQiIBiBd5DagTh0bv03jsC8+a/M5PchJsQSOEk+f/Wuiv3npl778zobPbZ58ydFJZNiIgMkNL5S0T0yDEgEZExGJCIyBgMSERkDAYkIjIGAxIRGYMBiYiMwYBERMZgQCIiYzAgEZExGJCIyBgMSLFw6tQpWbNmjVy6dMlpIaLYYEB6SDdv3pSxY8dK+/bt5YsvvnBaiSg2klRAWrBggfj5+WmgiG9p0qSRwoULS8aMGfU7iSj2mCE9pBQpUsgbb7whW7ZskWbNmjmtRBQbDEhEZIxEH5CuX78uffr00W7TgAEDtG3KlCn6ukWLFnL+/Hlt8+zObd26VTp06KBdrk8++USXw61bt2Tx4sXSsmVLXYb1GzRoIDNmzJBr1645a4XDZ2EdfLYL34fvxePs2bOycuVKrTPh84oVKyZvvvmmbN++3VmbiDw9koCEkanJkyfrA89jI1WqVOLv7y+9evWSWrVqaVvZsmX1daNGjbTW42n58uXSpUsXDRS3b9/WB2DEDO29e/eWffv2afAoXry4HDhwQEaMGCFDhw71GpSicvr0aQkMDJTXX39d9u7dK0WKFNH2n3/+WXr27Cl79uzR10QULkED0tWrV/WkHzlypA6V44HnaMOyh5E6dWrNaJAl1a1bV9vKly+vrzt16qRFZ0+7du2SGjVqyB9//KGZ0ltvvSV37tyRadOmaZDCtqxatUp++OEHzZaWLVsmFStWlODgYH1PTB09elSD7ezZs/UvPiskJETrTQhyCxcuFP56MFFECRqQECQKFiwoS5Ys0e4VHniONixLCI0bN5YhQ4aIr6+vZMiQQR83btyQ3Llzy7vvviuvvfaatrnQHhAQoM83btyowSsmEAgRbCtXriwpU4Ye5kyZMmnwhMOHD2t3k4jCJVhAQpZw/PjxsDqPJ7RhWWy7bzGRN2/eCAEHEDyQTaG+kytXLqc1XPbs2fUv6kOoM8VE1qxZJU+ePM6rcDlz5tRtOHLkiM5lIqJwCRaQNm3aJNWqVXNe3QvLsM6jhBrR3LlzpXXr1lpDQsEaj7Zt2zprEFF8StAum8lQZG7evLkMGzZMu1LouqEwjofbzSKi+JVgAal06dJaNI4KlmGdRwGZEYb/UWweM2aMFpz79++vdS08Xn75ZWdNIopPCRaQUNxFgRhD4ZGhDcuwzqNw8uRJ2bFjh3bTMHXALUITUcJK0DNv/PjxOicH84MQhPDAc7Rh2aOCkbOoRs8wNL9z507nFRHFpwQNSBjNwnyfwYMHS5YsWfSB52iLPF8oNjBDOqajYYBRtCeffFKvSwsKCgp7L7pyM2fO1G4cEcW/R9I3Qdese/fu+ojLblrJkiU1sOBSjjp16uhQvnvpSHQQkF599VVJmzatfPzxx1KiRAmpWrWq/kUwKlWqlK6HYvfdu3f1ORHFvSRVLMHlGe6kR0w8RDcMV+XHRNOmTTWQ1atXT3x8fPTSDwTL6dOn6wTH/Pnza9cS2RcRxY8UFq9fICJDcDiJiIzBgERExmBAIiJjMCARkTEYkIjIGAxIRGQMBiQiMgYDEhEZgwGJiIzBgERExmBAIiJjMCARkTEYkIjIGAxIRGQMBiQiMgYDEhEZgwGJiIzBgERExmBAIiJjMCARkTEYkIjIGAxIRGQMBiQiMgYDEhEZgwGJiIzBgERExmBAIiJjMCARkTEYkIjIGAxIRGQMBiQiMgYDUiJ1584d2bx5s+zcuVMsy3JaiRI3BqRE6u+//5ZWrVpJt27d5J9//nFa6cKFC/LLL7/I66+/Lt9++63TSokFA1Ii9eSTT0rhwoXF19dXsmTJ4rQmTwhCwcHB0r59e6lQoYJ0795dli9fzswxEUph/0fjfzVKtM6fP6/Z0KZNmyRVqlRSrVo1uXTpkmzYsEECAwM1i6TEgxkSJWopUqTQTHHSpEkahKZPny7ly5d3llJiw4CUSO3du1ezgRYtWmiW4FqwYIH4+fnp30OHDsl7770nzz//vLbVqlVL6yq3bt3S7szq1au1m4MTGg88X7lypdy9e9f5tHBYf+vWrdKzZ8+wz6tYsaIMHjxYvycqntuA72jZsqUsXrxYi/HY/j59+sj169edtUPhu3bv3i29e/cO+64GDRrIjBkz5Nq1a85aobJmzSpjxoyR+vXrS+bMmZ3Wh7du3Tr9vrFjx8qZM2fk008/1f10jx+24caNG87aoXD88d8Bj7Nnz+oxdI9rsWLF5M0335Tt27c7a0eE/xY4Hk2aNIlwTI8eParbgDZsU3LBgJRE/fTTT9pdWbp0qeTPn1+eeOIJOXDggPTv318+//xzmTx5snTs2FEDG06ajBkzypo1a7T7s3DhQudTQmFED+/BCYeCca5cuaRUqVK67JtvvpHXXntN9uzZo689hYSE6Ik5b948PYmLFCkihw8f1kAzYsSIe05sQDD6/vvvpWnTprrt+K6SJUvK8ePH9T2oD506dcpZO/6sX79eWrdurccpe/bski9fPj1+2IYhQ4bcExjh9OnT2k3EMcRxxf7Czz//rIE88jHCZyCY4ngg2OM78F34xyQgIEC3Idmx/wegeOLr6xvtIzbs/7ktf39/q3nz5ta5c+ecVssKCgrSzy5UqJA1Z84c6+bNm9puBxVr/vz52o7lpUuXtoKDg63bt2/rcqw3c+ZMXdauXTvL/ldf22HFihX6Pju7seyT0mkNfc+4ceP0PXagC/suwPvtk0qXjRo1yrp69aq2YzvszEy3Hcvsk9GyT0xdBmvXrtVta9asmWVnSU6rZV2+fNmyMwd9jx0kLDuLc5bcyw4Kuh6OxYPC9+O9kbcb32d3Ca2aNWvqsrlz52o74PjjvwPasV/YP+wnYLvffvttXWZnPBG2+8cff9Tjis/EZ7vLcOyGDRsWth3YpuSCGVIS1aZNG7EDi6RJk0Zfp0yZUho2bCg1atTQ18h20E3w8fHR11ivXr168uyzz2o3C90VFzIZdDveffddKVCggNMa+h5kYQULFpRt27aJfWI6S0KnJaDrUrlyZc1qMmTIoO3YDrQNHTpUX3tCxjBr1iyxg6S8//77Yp+szhKRTJkyyRtvvKGjisic4jtLsoOE9OjRI2y7UasqU6aMvPPOO1o8xzZgdM8TssyRI0fq/mE/AduNbiogO3S7p3agkx9++EH3Fd1WfDa+A9AN7du3r25DcsOAlEThRHCDjQsnlxtQihYtes/ytGnTapA5efJkhJPtpZde0pMG9Y3I8D14XLx4Ua5cueK0hnbXoHbt2nqCReZtqsKxY8e064K6EYJcZOh2ovu2f/9+7cLFJ+xT6tSpnVfhEDhQG8LcL3TRPGE/8+TJ47wKlzNnTsmbN68cOXJE7CxS27D9qCvhHwBvRXh8N7YhuWFASkbwL3DkIOQN/tVG3cgTCt0ogiPbcYu8eJQtW1aH3D0hC0BwAbeOEhMoCKOY++eff4rdbQv7DvdRvHhxWbRokWYX7omd0B577DENlggonhnhg3L3FfuV3OeReWJAovtCVwojZa+++qps3LhR6tatK7169dJHly5ddJJmVGISACPDSY9MCIXzqB7I5pICdO3crhoxIFEMYBZ0UFCQNGvWTP744w8ZPny4duHwwKUruXPndtYMhZMMdRaInGnFRPXq1XVkDqNtUT2QQSVmCNQ4Rsg8Lc5NDsOARNFC18jtkqE4G5O6BrIXt5aya9cu/RsT+OwcOXLokDlqUiZCtojhfwRhDNE/LOwnjhHqYZhZTqEYkCha+BccNaWooA7ircCM2hIygBUrVtwzGgXeRskwDwdzolDs/d///V+vmQMCgrf5S3ENdTDse2T/93//Jzt27JBnnnkm2q7q/eC92FdMAEU3ODL8QxC5aJ4cMCDFI/zrF90jMUiXLp2OEMEXX3yhI3DgFrkxDO62eUKdB8PfGPrH5EIEEsD7MAETs5AjQ3EX0xUQyEaPHi2//vprWFBAcEK2hYmWGP739p0PAoEUl5l4m9AJuDj3yy+/1JnULswux8RIBOjGjRvHqhiNEU98BowbN06DkhuAEcDHjx+vxym5YUCiaKHgiq4a5gQh20GQwQMjXihyY5oA/rVH1uI58oUhcMxoxryhadOmacaEExDvRVBJnz69s2ZEmGLQr18/HUnDiB7mTTVv3lwL6bg8BMPtmPuEofSHhe3EJSGYM4Rr4CJfugKPP/64BmBc3oLvx3dj3ha6a5jDhTldsYV9xfwufCaO8Ysvvqjfg18s+PHHH3WWenLDgET3haDy1Vdf6eUPmAuE7AT1DwSc2bNnS9WqVXUYO3LWhyA2c+ZMzXqQaSHDQbdswoQJ8sEHHzhrRYRib+fOnbWQjpMe9RX8EB3+tm3bVicTIrDFZmQKQbRKlSo6kRHbiNeRISigkI9twBQGd9uxz8iS3AmTsYF9RUDC8ShRooROnMRUAgRcXJKDbUh27DSRKMGtWrVKL4uIfOnIo+ZeOvKotwuXrNj/APDSEaK4cuLEiQi/RODCVAD7JNPnmPUcVfctqcNxQA3LPg+dlnDIynD5DSZhepv9nVQxIFG8QNcD176hAI2unHvSoUj9+++/y9y5c7X2lByv13KhToS5XXPmzIkwcojrCPHrCii8Y05WcgpI/MVIihf43woTGPHbPigiY5gc84wQqFArwVwlFJVRMDZppjJ+ewi1KhSwMdIXn9kbpj6ggI+RSMxOx8/EIGBjHhaOGQrqH3/8cawK+IkNMySKFwgy7u8nderUKaw4jUzALU6bFowSGgINRiA/++wzvcgW85tQPMcIJqZFYLpEcgpGwAyJiIzBDImIjMGARETGYEAiImMwIBGRMRiQiMgYDEhEZAwGJCIyBgMSERmDAYmIjMGARETGYEAiImMwIBGRMRiQiMgYDEhEZAwGJCIyBgNSIoVfFcQvCuJH0Dx/t3rBggXi5+fn9b5ncQE/n4X7k+H3nj3vWeZC2+LFi/UXF7Edzz//vK57P9gH7Av2Cfvmwi844nNw225vtyuipIUBiR4I7ouG+/m3bt1a7+LqCT9aP2XKFOndu7ds3bpVbxuEn2XlbwBSTDEg0QPJli2b3gkD92rD/ek94U4ZS5Ys0d+HnjVrlt5YEj9VW6ZMGWcNougxINEDwR1pcUdX/FY2gpInBCS3K1muXLlk/XvZ9HAYkCjOpUyZksGIHgoDUjKB+s748eO1QNyhQwe9BY8LNZ4NGzbobZ2LFSum6+B+YLj/Pe4R5slb8dktPONuIrBo0SK9cwbaUGT3dO3aNZkxY4bUqlUr7HtQd8K9/OOCW9TH30OHDsl7772nhXW0odCOgjuOhSd3n/DALcFxW6L27dvrTSxxPHBctm/f7qwdUeQifsWKFfXWT7inGgYW0IbjQzHDgJQM4AScNGmS/Pe//9UTxvNeX1iG++8jmOAGjgUKFJCSJUvqbYtws0KcmLi7anRwv/9evXpJy5Yt9TXul9+9e3dt8+zWIQiiHffGP3DggN6rDffVx4mL70dbXMFNGJs2bar3hnvqqad0G1FoR8Ed+xU5KMHp06clMDBQXn/9dQ22RYoU0faff/5Zevbsec9xQHAdM2ZMhCJ+9uzZNRgGBATI+vXrnTUpphiQ4hH+dYzukRCQ/eCknDhxop4wH330UYR7feEkw73BsAyZzdKlS7UQjSyhXbt2uhw1I29D/C7sC4blX375ZX2NrOKtt97SNtSSAAFg3rx5+rlly5aVZcuWyW+//aaPVatW6X3JLl68qOvGhdWrV0vfvn31XnDIYNasWaP3OUPBHYH5zz//dNYMh6wG682ePVv/4n0hISF6d1kEy4ULF0YYMUTR/ssvv9Sg++233+prHD8EImSQGzdudNakmGJASsJw8nz33XfabUHAQZaE7MUTbk548uRJqV27dlhGALjLLLp2uXPn1qAU2y6VOwKH22cPGzZMMzEXvuODDz6I8P2x1aZNGw2oyMAAda26detK165d5fbt2/LTTz/dE2QzZsyod9OtXLmyrg84Dm7mhzvuunOhcDwQuPFZCLwYSXTrZij8Ixgm59uEPywGpCQM/8rjBMOJNnz4cClatKizJBzuG58qVSr91/zEiRNOaygEL2QvwcHBOtwfGziZ0Q167rnn7hmdg3Tp0sXpbasRSHx8fJxXoRAwkLlgugImd16+fNlZEgqBxNt99JFR5s2bV44cOaK3uIbjx49rXQmZXfny5bXNU+rUqXUb6MEwICVR6Da8//772g1CPaNSpUrOkohQL0IxF0Vt/IuODALdDwQQ3Gc+rqA7BKgbIUA+Kgg4yBbPnTsXYYb7g0LxG/uE7mqWLFmcVootBqQkChmPWyQOCgqKcpQoQ4YMWleaMGGCZkSo6fTv319Hvxo2bOh1VIrCcYpD3GJASqLQDcOIUb9+/bRGhK6b51C/J9RZGjdurEXtTZs2yTfffCMdO3bUy0QwgoTaE4NSROgO4hgji+SlMXGHASmJQlEXXTEUpvEXc2G+/vrrCIEFJxKG99F1+ffff7UN3Q9MDRg6dKjMnz9fi9AoRqMoHRuowQDqMBguf1QwrwoBGsPzsamLoQ6F7t/+/fv1GFLcYEBKotyiLrpkqAuhkIzhblzy4cIoE7prGIb3NgyOWgtGwDCy5BZzHxY+C9fAYRgdJ3FkKDDH5bA/tjlyVocAjOkAKEhj4mZsaj8I1JjesHv3bq/D+zhemNdED4YBKR7hxIvukVBQGxoyZIg+HzduXNgEv7Rp02o2BAhW6KK50BVBVoV1ccX+448/7ix5OJiciEwN2cmHH34Y4bsQINClfJCJkSgoT58+PWxfIsOcIWR2bmEewQhzoDBbHUX1Ro0a6UjYw0KgRzcXcEwRlNyu24ULF/R7MMpJD4YBKZl44YUX9BIInPSYJOl2m1C4Rr0Io2yYp1O/fn1p3ry51KhRQ9dHnaRHjx46JB4bKPxiNjYusXBH9OrUqaOPqlWraoB++umnnbWjh+wDl7UgiKG+5e13kpAhYm4T9gP7g33DfiILw0xsNxDHxksvvRR2TDFX6cUXX9TjV6FCBZ0pnitXLmdNiikGpGQC3bf//Oc/OukPI2dTp07VLg3+pUf2hNnJWIbMBbObb9y4oQEEk/+qVKnifErsYJb0qFGj9PvQhdy3b592G9955x2ZO3eulCpVylkzeijCY5uQ6SD7cyc/ekL2gtHF0qVL6z7hu0qUKKGjibgMJPIcpYeBz0BAwmfiszFVAtMJWrVqpQMDCEz0gOw0kyjG7BPOsjMOy9/f37K7S06rOewgZNnBzgoMDHRaHo2rV69aduDTbVm7dq3TSvfDDInoISHDRA3LPo+clnAYlcRP96KQ7232N3nHgEQPBCNHeOAyDxTFkzPUiXDh7Zw5c7SL68LUAvyiAArvmGDKgBRzDEgUIxi1wsgUftIDJxrqIxj6Ts5wOQ5+zQCjhqi/4digdoXr5VCnw98uXbrESb0quWBAohjBSYXCMC6C7dSpkxaivRWTkxNcdIufbvnss8/0Ilv8csKuXbt0jhN+4wk/d+L5Uy90fylQSHKeExE9UsyQiMgYDEhEZAwGJCIyBgMSERmDAYmIjMGARETGYEAiImMwIBGRMRiQiMgYDEhEZAwGJCIyBgMSERmDAYmIjMGARETGYEAiImMwIBGRMRiQiMgYDEhEZAwGJCIyBgMSERmDAYmIjMG7jsQjPz8/55l3+/fvd54RETBDIiJjMCARkTEYkIjIGAxIRGQMBiQiMgYDEhEZgwGJiIzBeUiJ1J07d+S3336TW7duSd26dSVdunTOEpHt27fLunXrpH79+pIrVy6nVeTGjRuyaNEiyZkzp1SrVk18fHycJUSGQECixCckJMQqVKiQ5evra61du9Zptazz589bLVu21PbAwECnNVRwcLC2+/v7W3v27HFaiczBLlsilT9/fqlcubLYQUkzHlfmzJk1+8mYMaMULlzYaQ1VokQJXb9gwYKSLVs2p5XIHOyyEZExmCERkTEYkIjIGAxIRGQMBiQiMgYDEhEZgwGJiIzBgERExmBAIiJjMCARkTEYkIjIGAxIRGQMBiQiMgYDEhEZgwGJiIzBgERExmBAIiJjMCARkTEYkIjIGAxIRGQMBiSKsVOnTsmaNWvk0qVLTkvcw62aQkJC5MCBA7gjjtNKyQUDEsXIzZs3ZezYsdK+fXv54osvnNa4t3TpUmndurX0799fLl686LRScsGAlIgtWLBA/Pz8NFDEtzRp0uhtlXB7JXxnfPH19ZUnnnhCb9WUNm1ap5WSC94GKRFDQBowYIB069ZNMwqixI4ZEhEZgwEpkbl+/br06dNHu03IjmDKlCn6ukWLFnL+/Hlt8+zObd26VTp06KBdrk8++USXw61bt2Tx4sXSsmVLXYb1GzRoIDNmzJBr1645a4XDZ2EdfLYL34fvxePs2bOycuVKrTPh84oVKyZvvvmmbN++3Vn7/tatW6ffgX3Evnq6c+eOLFu2LOzz77e9gHYsx3pYH9uEY4HtvHv3rrNWOPe44e+ZM2fk008/lYoVK2pbrVq19LNQeKf4wYCUyKRKlUr8/f2lV69eeoJA2bJl9XWjRo201uNp+fLl0qVLFz0Bb9++rQ/AiBnae/fuLfv27dMTtXjx4jq6NWLECBk6dGiUJ7k3p0+flsDAQHn99ddl7969UqRIEW3/+eefpWfPnrJnzx59/bAQnEaNGiWdO3eWjRs36ud7bm/37t11nzwdPnxYgw+WHz9+XEqWLCkFChTQkUK0I8BGFVzc4zZ58mTJnj275MuXL+y78A8AgiPFA9SQKH74+vpG+4itoKAg/Rw7EDgt4dxleAwaNMjav3+/dfXqVX3YQcmyTyxdZp/k2uY6duyY1aZNG122aNEipzUUvgft+GzXuXPnrObNm2u7HSit1atXW/bJqssuX75svf3227rMPvktOyPR9uisXbtW17cDpWUHRKfVslasWGEVKlRItw3b6Dpx4oT12muv6XsmTpwY9h2XLl2yunbtqu3Dhg3TbXHZgcWys0JdNmvWrAjb5Xnc8D47A9R2rPM///M/VunSpXU/7QCr7RS3mCElcY0bN5YhQ4bo6FWGDBn0gawgd+7c8u6774p9MmubC+0BAQH6HJlITDMBjL6NHDlSKleuLClThv5vlSlTJu0OArKVyF2wB7FhwwbN7po2barb6HryySc1awJkYW7Gg21H965atWra/cO2uJAl2cFG3zt//nw5evSosyQcjhsGCrJmzaqvU6RIIeXKldPPw/qRszGKGwxISVzevHkjBBxA8OjUqZPWd3LlyuW0hkMXBVAfQp0pJnDi5smTx3kVLmfOnLoNR44c0blMDwtdJrAzMLly5Yo+d1WpUkXsDFDGjx8v6dOn1yBqZ1QawNCNdYOKp2eeeUZrQzt37vTanfR23PD6qaee0ufeghjFHgNSMoYa0dy5c3UiImpIKNzi0bZtW2cNc1SvXl2zkyVLlujfvn376iTKkydP3jOjG4EPBXbInz+//o0Mgctdhs8gMzAgJVPICpo3b65dF3Sl0HVDYRwPt5tlEmRaKDCj+4kMbuHChdKjRw/tIrZp00YzJzcwISAhI7sfN+s6dOiQ/qVHjwEpGUJmhOF/jBqNGTNGT27US1BrwePll1921jQLukzoav7+++/y119/yfTp07Wm9Pfff0vHjh3l+++/1/Uww9vtWkUH+w+YGU5mYEBKhtBF2bFjh3bTMHXALUKbCvOFLly4oA/Uh1BgRpZUo0YNDayTJk3S9RBYceEvAlKOHDm0LarsB1nhsWPH9DmK3GQGBqRkCCd1VKNn6Pag0GsSBBnMCapTp84924bghBFEjJih2I398vHxkRdffFHnbP3xxx9y+fJlZ+1wmHuFSZhFixaVQoUKOa30qDEgxSOM/ET3iCso4MZ0NAyQXeAE3rJliwQFBYW9F125mTNnajcuvmGUCl2umEyYzJw5s9aKsJ9Tp07VGdQubPuff/6pn4fAghFEKFOmjNSsWVN+/fVXmThxYoRJnv/88498+OGHmimioI8RNTIDA1IihpnHCCy4zAHZA+or7qUj0UFAevXVV7Vr8/HHH0uJEiWkatWq+hfBqFSpUroeujXoLsU1FJ1xSQbmLaG7db/5Sch4MLMa+4hLXTDKhnlCKMrj+UcffaRZEuYjuTPVEcQGDx6ss9inTZum+4d6U/369aVu3bo6rwl1p1atWmmWRWZgQErEcPmEO+kREw/d+kpM4OREIKtXr56e8Lj0A1kIshYECgyJ4xIQd/g8LiFoYO4QshlkNZEvd/EGNaHPP/9cJkyYoJeM7Nq1SzZv3izp0qXTS1MwwTFy1wujaLNnz9ZjhMmUyAiRHWE/3fbIc43o0eLPj5BRUNfBPKgmTZrI6NGjdb4QJR/MkIjIGAxIZAwk6wcPHtTn6EphlIySFwYkeuRQ1H7//fe12Dxw4MCwn1hJnTq1swYlFwxI9Mi5EzMxNwgFeoz0vfTSS9pGyQuL2kRkDGZIRGQMBiQiMgYDEhEZgwGJiIzBgERExmBAIiJjMCARkTEYkIjIGAxIRGQMBiQiMgYDEhEZgwGJiIzBgERExmBAIiJjMCARkTEYkIjIGAxIRGQMBiQiMgYDEhEZgwGJiIzBgERExmBAIiJjMCARkTEYkIjIGAxIRGQMBiQiMkaSCkgLFiwQPz8/GTt2rNOS8EzYBqLEihkSERmDAYmIjJHCsjnPE6Xr16/LoEGDZNGiRU5LuNKlS8v06dMlW7ZsTovI+fPn5euvv5agoCA5fPiwPPHEE1K7dm3p2rWr5M+f31kr3KVLl2TevHkyf/58OXDggKRNm1YqVKggnTt3lqpVq0rKlCkfeBuIyDufD2zO8wSzZs0aWbJkifz1119y+/ZtyZcvn7Pk4SAgFCtWTDJlyqRBo2zZstKqVSspWbKklCpVStKkSaPr7dmzRzp16qTf/dhjj4mvr6/8+++/smrVKvnxxx+lePHiEbbl4MGD0q1bN/nuu+8kderUUqhQIUmXLp1s2rRJPwPKlSsnKVKkiPE2EFE0kCEllCtXrlh2ZmE1bNjQGjNmjD7wHG1YFlt21mPZQcYKDAx0WsKdOXPGateunWVnLNbChQutO3fuaDv+BgcHWyVKlLACAgIsO4PSdjtQWiNGjNDPGzdunHXz5k1tv3v3rmUHVKtSpUr6ng0bNmi7K7ptIKLoJWgNqU+fPlKwYEHNLgYMGKAPPEcblsWnpUuXamaGrlaTJk20qwX4awdFadCggS7fvHmztl++fFkzody5c0vjxo3DMhxkQxUrVtTPuHr1quzbt0/biSj2Eiwg4WQ/fvy4BqHI0IZlWCc+oDuF7mHGjBm17oOg4gnBBl0vdB+3bdumbagV5c2bV7crJCRE7MxI2wHvR81o//792i0joriRYAEJ2Ua1atWcV/fCMqwTH27cuCGHDh3SjKZFixY6Tyjyww2UdtdR/6ZPn15eeeUVLXoPGTJE6tSpo3OL1q1bJ9euXdN1iChuJath/1SpUkmRIkW0yBzVA8VuV5UqVXSiY5s2beTcuXMyZcoUadu2rRasBw4cKEePHnXWJKI44dSS4t3q1au1gB0VLMM6sRFVQdkOJlbz5s0tf39/a8+ePU7rg0GR++DBg9a8efP0s/A9NWvWtPbu3eusEYpFbaKHl2AZUuXKlbVAbJ+oTks4tGEZ1okPqBGh64WMBnOPYgLTATBnCfOQ7OMkPj4+Ok+pdevWOi+pQ4cOOrz/yy+/OO8gothK0C7b+PHjxc4opFGjRhqE8MBztGFZfEExG90xWLhwodca0J07dzT4uDDahtG0fv363bM+Atyzzz6rz92aExHFXoIGJASGadOmyeDBgyVLliz6wHO0YVlcOXv2rNy6dct5FQqBDxMbFy9eLBMmTIgQZC5cuCDDhw/XwjUmScLTTz8tZcqUkeXLl0twcHCEzztz5owsW7ZMn2MypDfetoGIopfoLx3xtHPnTnnttdfk5MmTOuP6mWeekXHjxoVdtoHh+759+2rXDcVrdMEwnI8M7ebNm9KxY0d59913JUOGDPesjy5fnjx5dGqAuz5G7D766KOw9eF+20BEUXskl47Elxw5cmgtCkEBl30gINSvX18v9wDMK8KERrxG/QeXkqCbhmvTkCG9+uqrES7x8FwfQWj37t1aV8LlIBhlw/Vv7me77rcNRBS1JJUhEVHilqzmIRGR2RiQiMgYDEhEZAwGJCIyBgMSERmDAYmIjMGARETGYEAiImMwIBGRMRiQiMgYDEhEZAwGJCIyBgMSERmDAYmIjMGARETGYEAiImMwIBGRMRiQiMgYDEhEZAwGJCIyBgMSERmDAYmIjMGARETGYEAiImMwIBGRMRiQiMgYDEhEZAwGJCIyBgMSERmDAYmIjMGARETGYEAiImMwIFGCsCxLTp48Kd9++620bt1a1q1b5ywhCseAlIgtWLBA/Pz8ZOzYsU5LwotuG9wgNGvWLGnatKlUrlxZ+vfvLyEhIc4aRBExIFG82bdvn7Rs2VI++ugj2bNnjzRo0EAKFSrkLCW6FwMSxRsfHx+pWrWqzJkzR/7++2/5+OOPpVixYs5SonsxICUy169flz59+mg3acCAAdo2ZcoUfd2iRQs5f/68trnwetKkSVK9enVdp2LFijJ48GA5dOiQs0ZEly5dkqlTp0qtWrV0fQSQDh06yMqVK+Xu3bu6Tky3wdfXV8aMGSP+/v6SLl06bXtY7ndWq1ZNsy1sT/v27aVw4cK6jW+++aZs377dWTscalXYLnQpr127JjNmzAjbNxyLTz/99J5j5oq8Po4h1j927FjYtuzdu9dZm+KCzwc25zklEjg5cRJmypRJDhw4IGXLlpVWrVpJyZIlpVSpUpImTRpdDydup06dZMmSJfLYY49pgPj3339l1apV8uOPP0rx4sUlX758ui4cPHhQunXrJt99952kTp1au1cIJJs2bdLPgHLlykmKFClivA2ebt++LX/88Yfs2rVLu3JPPfWUs+T+3Pfiu7Zu3Sqff/653Lx5U55++mk5d+6cfib26bnnnouwT0ePHtX9wX5g+Zdffik5cuSQ7Nmzy5EjR2T9+vVy5swZDZrYZ9fZs2e13oX614ULF+SZZ57RjO/nn3+W1atXa9uNGzekWbNm+lkURyyKN3YAiPYRW0FBQfo5gYGBTks4+ySz2rVrZ5UuXdpauHChdefOHW3H3+DgYKtEiRJWQECAZWcH2m6f8NaIESP088aNG2fZJ7u221mRtWbNGqtSpUr6ng0bNmi7K7ptiMzOOKzevXvr+mvXrnVaY8bzvTVr1tTtwLbB1atXrVGjRumyJk2aWCdOnNB2wPegHY833njDsrMbZ4ll7dixQz/LDrwRtgefO3nyZH2PHTgtOwg6Syx9Pz4Hy+wgZtlB31lCcYFdtiRq6dKlYgcS6dy5s9gnqaRMGfqfGn8bNmyoBWYs37x5s7ZfvnxZM6HcuXNL48aNwzIcZEPo2uAz7BNfC9WP2sCBA6VMmTK6bZAhQwbp3r27dqG2bNmiWU9kyOBQXMf+uYoUKSK1a9fW7AuZlwsjg8gIM2bMKIMGDZICBQo4S0Tfj04F3ktxjwEpCUJ36q+//tITCkVl98R1Idig64UTcdu2bdqWNm1ayZs3rxw/flyH5d16EeD9ODH379+v3bJHLUuWLM6zcFmzZpUXX3xRn6NLZ/9jq89d2LfI78N+FSxYUJ971tTQdUU9qkqVKl4DD7p/6dOnd15RXGJASoJQ28AJhowGRWYUZCM/3GL0lStX9C9OsFdeeUWeeOIJGTJkiNSpU0cLwSgKo7ibGDz77LP6FxkOjsHDcoMTMiNkX5RwGJCSsFSpUum/8CgyR/VAsduFjAATHdu0aaOFYoyctW3bVrs76CahQJycoIgdObuk+MWAlIQ9+eSTOhr1/fffR/no2rWrs3ao/Pnzy6hRo7TLt2LFChk9erSOpgUFBUlAQIARNaT4hkAOd+7cuafrR/GLASkJQo0IXS9kNIcPH3Zao4fpAJiPg3lIOAmRHSA44bqzefPm6VwkFH5/+eUX5x3mcQvTCMSxmfeEaQMISv/880+i6a4mFQxISRCK2eiOwcKFC72eVPjXH8HHhdE2jKb169fvnvUR4Nz6jFtzepS87Q9GCZHRQenSpWPV1UJAQlaI0brdu3c7reHwXRcvXnReUVxiQIpHGJWK7hFXMInv1q1bzqtQjRo10omNixcvlgkTJkQ4iTGpb/jw4Vq4xiRJwARDDKUvX75cgoODI3weJg4uW7ZMn+NE9cbbNjwsjHDNnDlTTpw44bRE9Nlnn+mkTxe+d9q0afLrr79KhQoVdAQxNnLmzCn169fXoIPuKzIlF0YhR44cGWGaAMUdBqREDLOi0T1BIRrBBbOy3csg0N0aMWKEDnfjZMXwP664xxwjXHWP68swH+n555/X9dHFe+edd/Tzhg0bpnN6mjdvruvjObpqGLHDZRSeotuGh4Fgie9HwMQ2eoPRQ2w7gga2Eds3ceJELdD36tVL9yU2kF2hXob93bBhg9SsWVP3DQ8cRwRMz8EAijsMSIkYRtAwRO/r66u1InTDPLsq5cuX18J1z549dQ4OJg3i2itkEbNnz9b3eg5re66PGgy6cbgkA5eYIMtCthB5GPx+2/CgMmfOrAEG3U5cp+YNJibi+jysg3lU6HrWq1dPvvrqKx0pjAvYT0ykdPcNxXxkYjg2uJwEbRT3UmC6tvOcyFiY7InJmYsWLZJvvvlG612PCrqnyAQxNQJdS3dyJcUeMyQiL1Bzw4xtb5A1ogaILAn1Joo7DEhEkeCyGWQ+uJIfV/ejG+pCgRs/QYI6Vt26db1exkIPjwGJKBJcgIxgg+wHv7OEuhSK5yiiox2Fblxmg6I3xS0GJCIvMGUCBf4PP/xQRxFR4Ed2hBFKjFqi4M3r3OIei9pEZAxmSERkDAYkIjIGAxIRGYMBiYiMwYBERMZgQCIiYzAgEZExGJCIyBgMSERkDAYkIjIGAxIRGYMBiYiMwYBERMZgQCIiYzAgEZExGJASKdw9BHfnwK8Wet52CLcj8vPzk7FjxzotCQvbgm3CtmEbXTdu3JCQkBC9n5m3n+DC8hkzZkiDBg10+3HHEfxC47vvvivffvttjO/AS4kbAxIliKVLl+ptufv373/PXV9xR5GhQ4fqfeR27twpzzzzjN5eCb/QiJtW4j1r16511qakjAGJEgTu0IEbOOKWQWnTpnVaQ+EuHghYWOenn36S3377Te+4u2PHDunWrZuzFiUHDEiUIHC//XXr1sno0aMlffr0Tmso3BYbd/F44YUX9LesKfliQCJjIFD5+Pg4ryg5YkBKJnBvsfHjx2vBuEOHDnLq1ClniWiRGbf2wS1/ihUrputUr15d7z925swZZ62IcCNFFKFxr393/SlTpmim4w2yI6zXp08frRmBW4AfMGCAvsb78RoPrP+g8Ln4fBTUkXWtXLlS2rdvrwVy7Bf2D/flj8zdNgwERN4v3CEXx8Fz4MCTt+OA9Y8dOxa2LZ7FfYoeA1IygGCEe+H/97//1RPs448/DrvjKpbhpoht27aV33//XQoUKCAlS5bU++V//vnnekLj5PaEYNa9e3ctQmPUDEXoNGnS6AmNz0FbTKBm1KtXLz2ZoWzZsvoaD9SbHhZG7HD7IgReBAMUyAE3fcT+rF69Wl9HtnXr1rD9wr3ZsF+nT5/W4zBy5EgNPp5wS+233377nuOA9Tt37iz79u1z1qSYYkCKR+6/9lE9EgKyH9xfbOLEiZIvXz69n5jn7Z8RbHCfMSzDffNRXP7hhx80u2jXrp0u/+KLL+TWrVu6PgLYvHnzdDkCyLJly7QIjceqVavk2WefvWcULSrlypXTLAI3X4Ty5cvrazxic3wQKI4fP67TBTA6hwI5MsAuXbrotgUGBsrJkyedtcP9+eefki5dOt0Pd59QZEfgxLHZsmWLs2bocUWGh3W8HQccz23btjlrU0wxICVhOGm+++47ee+99/QEQZYUuWiMkSycnLVr1w7LJCBTpkyaYeTOnTus6AzoiixZskRvnjhs2DDNqFxY94MPPojwOY/KwIEDpUyZMpIiRQp9jZs6IvtBFwqBZf369druCYEFARv74cK+4Njcvn07QuaHY4bjkDFjRhk0aJCxxyGxYUBKwtasWaNdDZw0w4cPl6JFizpLwuXJk0dSpUolGzdulBMnTjitoRC88K895gJly5ZN2zBBEd2g5557TjOHyJBhRB5FexS83XM/a9as8uKLL+pzdM8iT9DMmzfvPe9DQMNUBTh06JD+hYMHD2o9CrfZ9hZ4TDkOiQ0DUhKFDOD999/XLkpAQIBUqlTJWRIR6kWYWY0uTc2aNaVr165hM6Pv3r3rrBXu6NGj+hf1EgS6xAZdSkCGg1rTw3KDEzIj3lI77jAgJVHIeNwuRlBQkNfRJcDJhG7KhAkTNCNCDQQzozFa1LBhQ62/oG5E3mGagtstpNhjQEqi0A1D8bZfv36aDaDr5jnU7wkjQ40bN9bC7aZNm+Sbb76Rjh076qUbvXv31toTg1JEOL6A4xK560cPjwEpiWrTpo12xVCYxl/Mtfn6668jBBacSBjexxybf//9V9tQQ8HUAFxbNn/+fC1eo3iLYjagzgJHjhy5Zxg8MXCzRuwX6jwPC4MECEoI2onxOJiKASmJwigZuhPokqEuhAI05iH98ssvzhqiQ/normF0CUPekeGkw4gRJhzevHkzrA1FXly5v3//fm3zdPny5RgP+8cnb0EC27ZixQp9jktZYtPVwnHAZEvU6nbv3u20hjPlOCQ2DEjxCCdsdI+EgtrQkCFD9Pm4cePCJjriIldkQ4BghX/tXShoI6vCuvnz55fHH39c25966inNuNANxORDz/dg7g+6hjGdGBkbqIlhQmfkkUHXZ599FrafgOCL+Va//vqrVKhQQedAxQbmcuHnURB0Ro0a9ciOQ1LDgJRM4MJVXDqBkwSTJN0MAoVr1IswyoYJijjJmjdvLjVq1ND10S3p0aOHDpkDsgrMxm7SpEnYyFydOnX0UbVqVQ20Tz/9tK4bXy5cuKBzoDCVYc6cOU5rRJg3hX1z9wfzj7Dfjz32WKxnggOOA0YvPUcoPY8DAia+ix4MA1Iyge7bf/7zH6lcubKOnE2dOlXrSejSIXuaPXu2LsO/9Js3b9YhcQQezNrGXBtPONGQFeB96AriEglkIO+8847MnTtXSpUq5awZPzJnzqwBBtMOcJ2aN5iYiGI81sGMadTK6tWrJ1999dU9+/Ow3BHKyMehZ8+eMmvWLK/ztCh6KSwOEVACQPfPzay8/QRJXECtC7OmMVqIkUK3O/oo4PKVTp06yblz57Rr6U6upOgxQyJ6SOj2Ysa2N/jROXRfkSV5XjtI0WNAoniHJNw9cdHNcefwJGYo+iPzadasmf6KgOd0CnR78RMkqGOhLuftMhbyjgGJ4g26ULh8BSclLnZFIPL395fUqVM7ayRe+HkS7BeyHxT/UZdC8RxFdLSj0P3KK69o0ZtijgGJ4g1OWkCxF12XMWPGyEsvvaRtSQGmU+CnXTD9ARMtMRiA7AiDA5higII3MkKKORa1icgYzJCIyBgMSERkDAYkIjIGAxIRGYMBiYiMwYBERMZgQCIiYzAgEZExGJCIyBgMSERkDAYkIjIGAxIRGYMBiYiMwYBERMZgQCIiYzAgEZExGJCIyBgMSERkDAYkIjIGAxIRGYMBiYiMwbuOxCM/Pz/nmXe4sykRhWOGRETGYEAiImMwIBGRMRiQiMgYDEhEZAwGJCIyBgMSERmD85ASqTt37shvv/0mt27dkrp160q6dOmcJSLbt2+XdevWSf369SVXrlxOq8iNGzdk0aJFkjNnTqlWrZr4+Pg4S4gMgYBEiU9ISIhVqFAhy9fX11q7dq3Talnnz5+3WrZsqe2BgYFOa6jg4GBt9/f3t/bs2eO0EpmDXbZEKn/+/FK5cmWxg5JmPK7MmTNr9pMxY0YpXLiw0xqqRIkSun7BggUlW7ZsTiuROdhlIyJjMEMiImMwIBGRMRiQiMgYDEhEZAwGJCIyBgMSERmDAYmIjMGARETGYEAiImMwIBGRMRiQiMgYDEhEZAwGJCIyBgMSERmDAYmIjMGARETGYEAiImMwIBGRMRiQiMgYDEiU4HA7ppCQEDlw4ADueuO0EjEg0SOwdOlSad26tfTv318uXrzotBIxICVqCxYsED8/Pxk7dqzTkvAeZht8fX3liSee0NsxpU2b1mklYkCiR6B06dJ6Z93Ro0dL+vTpnVYiBiQiMggDUiJz/fp16dOnj3aTBgwYoG1TpkzR1y1atJDz589rmwuvJ02aJNWrV9d1KlasKIMHD5ZDhw45a0R06dIlmTp1qtSqVUvXL1asmHTo0EFWrlwpd+/e1XUedBsiQ3aEdfEZ+CxPd+7ckWXLlkn79u31zrtYr0GDBjJjxgy5du2as1ZE2C5sH7YT23u/97jfj24mlmM9d39xfD799NP77gPFD58PbM5zSiRwEuPEy5Qpk45UlS1bVlq1aiUlS5aUUqVKSZo0aXS9PXv2SKdOnWTJkiXy2GOPae3m33//lVWrVsmPP/4oxYsXl3z58um6cPDgQenWrZt89913kjp1ar3tdrp06WTTpk36GVCuXDlJkSJFjLfBm6NHj+p3FClSRGrXrq3fBfjMwMBA+eijj+T06dMakHCb8P3798vy5ctly5YtUrVqVb1NuAsjduPGjZP3339fjh07pkElT548+h2//fabBh/cchz773K/H/uG4/Dll19Kjhw5JHv27HLkyBFZv369nDlzRvz9/cO2jRIIbqVN8cMOANE+YisoKEg/xz6JnZZw9glltWvXzipdurS1cOFCy848tB1/g4ODrRIlSlgBAQGWnQlo++3bt60RI0bo59knuHXz5k1tt7MPa82aNValSpX0PRs2bNB2V3TbEJW1a9fqe3r37m3ZGYrTalkrVqyw7CBotWnTxrKDi9NqWSdOnLBee+01fc/EiRN1mwB/Z82ape3NmjWzdu/ere1w9epVa9SoUbqsa9eulp35OUvCvx+PN954I8J37dixw6pZs6ZuB9ajhMUuWxKFoXU7kEjnzp2lSZMmkjJl6H9q/G3YsKF2abB88+bN2n758mXNhHLnzi2NGzcOy3CQDaEbg8+wT3LZt2+ftscHO9iJHRiladOmuh2uJ598UvcDkPUhK4JTp06JHVw1+xk6dKhmdK4MGTLIW2+9JXXr1tUu4OrVq50l4ZDVIRvz/C43a8N2IPOjhMWAlASh6/PXX39p1wZdHAQVTwg26HrhpNu2bZu2Yfg9b968cvz4cZ206NaLAO8fNGiQdp3QLYsvbvcRwePKlSv63FWlShX9/vHjx4eNzG3fvl27caiPFS1aVNs8Zc6cWWtD2E8729H6lCfsb5YsWZxXobCvmI4AUdXZKP4wICVByCBwMiGjQZEZdZXID7cY7Z74OMlfeeUVnR80ZMgQqVOnjhZ9UYOJqpgc1xBYqlWrpvUq/O3bt69meidPnvQ6oxvtgJpRVNMH7G6ZpEqVSs6ePSt2N9RpJVMxICVhOBHRBUGROaqHZ7EXWQgmOrZp00bOnTunI2dt27bVrs3AgQO1GByfUMCePHmyBkQUmBcuXCg9evTQojS2CZmTZ2CKSQaTNWtW7fKhWM2AZD4GpCQMJ+Lnn38u33//fZSPrl27OmuHyp8/v4waNUq7fCtWrNDJixhNCwoKkoCAgHitIQFqPxgZ/P3333Ubpk+frjWlv//+Wzp27Kjb7MK23g8yIwRSZH7RjfyRGRiQkiCceDgBcSIePnzYaY0epgNg7g3mISEL8fHx0RMe15zNmzdP5/igyPvLL78474hbqFlduHBBH6j1oJaDLKlGjRryySef6FwqQNaEbQQEXMBwf+T5TC43i0K3DsP8ZDYGpCQIxWx0xwAnsLcaEE5698QGjLZhNK1fv373rI8A9+yzz+rzyMXmuIJt6dKli9audu7c6bSGQnBCLQgBCN/vFqexTZj3hDqXt8wNI4d//PGHdl0rVaqkQZbMxoAUjzAqFN0jrqBbcuvWLedVqEaNGukw+OLFi2XChAkRggyykOHDh+vJj0mS8PTTT0uZMmV0AiKG0j0/D5MEMXQO6L55420bUFxHVw9dv8gjXJFhRAy1InwOZorjO1343D///FMzPuyTOzESNScU7VHc/vDDD+Wff/7RdsD+Tpw4UX799VepWbOm1scoEcBkJEqcMIkPExYxwe+FF17QyYPnzp1zllrW+vXrLX9/f12OCZJNmjSx7EBlFS1aVNvsk1gnELo8169QoYJONvRc/5133omwPkS3DZiAiXZ85p49e7QNopoYicmcmKiIZfhOfDe2AduCNkxY9Jz8CHZXzRo9erQux2TGevXq6X5if9GG99vZk7N2qKi+32UHUV3+IJM9KW4wQ0rEMIKGESn75NFakVt7cZUvX16LwD179tT5Npizs3fvXrFPcJk9e7a+F0Vkl+f6qLegG7dr1y69xARZFordnutDdNtQokQJzWgwrydbtmzaFh1cvoEiPL4L34nvxjZgW7BN8+fPjzD5EbAMv6uE/UGGhSwJ+4nJjtiur776Sqc5UOKQAlHJeU6UIFDzwXQCzP7mT5CQJ2ZIRGQMBiRKUEjI8asCgO4fRsCIXAxIlCAwTwg/EYKLXTHrG4GIP+9BkTEgUYJwf20A84VQAB8zZoy89NJL2kbkYlGbiIzBDImIjMGARETGYEAiImMwIBGRMRiQiMgYDEhEZAwGJCIyBgMSERmDAYmIjMGARETGYEAiImMwIBGRMRiQiMgYDEhEZAwGJCIyBgMSERmDAYmIjMGARETGYEAiImMwIBGRMRiQiMgQIv8Ph7A5V9jJJLkAAAAASUVORK5CYII=)"
      ],
      "metadata": {
        "id": "FpkoqjaFrqDy"
      }
    },
    {
      "cell_type": "code",
      "source": [
        "all_img = []\n",
        "for x in os.listdir(r'/content/gdrive/MyDrive/VRDL_HW3/dataset/train'):\n",
        "  all_img.append(x)\n",
        "\n",
        "# 總共24張圖,畫分成20:4 train跟validation data\n",
        "train_img = all_img[:20]\n",
        "val_img = all_img[20:]"
      ],
      "metadata": {
        "id": "cY56c5ihohgz"
      },
      "execution_count": null,
      "outputs": []
    },
    {
      "cell_type": "code",
      "source": [
        "# 搬圖片\n",
        "import os  \n",
        "import shutil\n",
        "\n",
        "COPY = False\n",
        "filepath = '/content/gdrive/MyDrive/VRDL_HW3/COCO'\n",
        "\n",
        "if os.path.isdir(filepath):\n",
        "  print(filepath+' exists')\n",
        "else:\n",
        "  print(filepath+' does not exist.')\n",
        "  os.makedirs(filepath)\n",
        "  os.makedirs(filepath+'/train')\n",
        "  os.makedirs(filepath+'/val')\n",
        "  COPY = True\n"
      ],
      "metadata": {
        "colab": {
          "base_uri": "https://localhost:8080/"
        },
        "id": "wPYL87DBraf9",
        "outputId": "33f334b7-71cb-48b6-e404-092130770548"
      },
      "execution_count": null,
      "outputs": [
        {
          "output_type": "stream",
          "name": "stdout",
          "text": [
            "/content/gdrive/MyDrive/VRDL_HW3/COCO exists\n"
          ]
        }
      ]
    },
    {
      "cell_type": "code",
      "source": [
        "if COPY:\n",
        "  for file_name in train_img:\n",
        "    print(file_name)\n",
        "    source = '/content/gdrive/MyDrive/VRDL_HW3/dataset/train/'+file_name+'/images/'+file_name+'.png' \n",
        "    destination = '/content/gdrive/MyDrive/VRDL_HW3/COCO/train/'+file_name+'.png' \n",
        "    dest = shutil.copy(source, destination)  "
      ],
      "metadata": {
        "id": "GYJM6kliso7f"
      },
      "execution_count": null,
      "outputs": []
    },
    {
      "cell_type": "code",
      "source": [
        "if COPY:\n",
        "  for file_name in val_img:\n",
        "    print(file_name)\n",
        "    source = '/content/gdrive/MyDrive/VRDL_HW3/dataset/train/'+file_name+'/images/'+file_name+'.png' \n",
        "    destination = '/content/gdrive/MyDrive/VRDL_HW3/COCO/val/'+file_name+'.png' \n",
        "    dest = shutil.copy(source, destination)  "
      ],
      "metadata": {
        "id": "Rabznzj7vjsY"
      },
      "execution_count": null,
      "outputs": []
    },
    {
      "cell_type": "code",
      "source": [
        "print('train imgs:'+str(len(os.listdir(r'/content/gdrive/MyDrive/VRDL_HW3/COCO/train/'))))\n",
        "print('val imgs:'+str(len(os.listdir(r'/content/gdrive/MyDrive/VRDL_HW3/COCO/val/'))))"
      ],
      "metadata": {
        "colab": {
          "base_uri": "https://localhost:8080/"
        },
        "id": "cGWbETMPvWBH",
        "outputId": "25dc5f78-187c-41b1-d47b-911db8717638"
      },
      "execution_count": null,
      "outputs": [
        {
          "output_type": "stream",
          "name": "stdout",
          "text": [
            "train imgs:21\n",
            "val imgs:4\n"
          ]
        }
      ]
    },
    {
      "cell_type": "markdown",
      "source": [
        "## mask處理\n",
        "參考: https://zhuanlan.zhihu.com/p/427096258\n",
        "\n",
        "使用imantics\n",
        "\n",
        "不知道為甚麼直接往下執行validation的部分會怪怪的\n",
        "所以要跑val的json檔要先恢復原廠 改變數名稱後再執行"
      ],
      "metadata": {
        "id": "JhPfhLAfhihz"
      }
    },
    {
      "cell_type": "code",
      "source": [
        "import sys\n",
        "#error:maximum recursion depth exceeded in comparison\n",
        "sys.setrecursionlimit(2500000)"
      ],
      "metadata": {
        "id": "8ozdI9Bd0SUW"
      },
      "execution_count": null,
      "outputs": []
    },
    {
      "cell_type": "code",
      "source": [
        "!pip install imantics"
      ],
      "metadata": {
        "colab": {
          "base_uri": "https://localhost:8080/"
        },
        "id": "Qv-pC5q8h5Lw",
        "outputId": "ef0da582-3544-467e-b254-5e7fdab8bd8b"
      },
      "execution_count": null,
      "outputs": [
        {
          "output_type": "stream",
          "name": "stdout",
          "text": [
            "Collecting imantics\n",
            "  Downloading imantics-0.1.12.tar.gz (13 kB)\n",
            "Requirement already satisfied: numpy in /usr/local/lib/python3.7/dist-packages (from imantics) (1.19.5)\n",
            "Requirement already satisfied: opencv-python>=3 in /usr/local/lib/python3.7/dist-packages (from imantics) (4.1.2.30)\n",
            "Requirement already satisfied: lxml in /usr/local/lib/python3.7/dist-packages (from imantics) (4.2.6)\n",
            "Collecting xmljson\n",
            "  Downloading xmljson-0.2.1-py2.py3-none-any.whl (10 kB)\n",
            "Building wheels for collected packages: imantics\n",
            "  Building wheel for imantics (setup.py) ... \u001b[?25l\u001b[?25hdone\n",
            "  Created wheel for imantics: filename=imantics-0.1.12-py3-none-any.whl size=16031 sha256=6e9c6bd2e6c66e5eb20951814a23b617e568093ecc98e2ff317f73f55a396778\n",
            "  Stored in directory: /root/.cache/pip/wheels/da/7c/3e/296fe3ed4eb3bd713e91dee0d0549f12f316d49939a64bdc96\n",
            "Successfully built imantics\n",
            "Installing collected packages: xmljson, imantics\n",
            "Successfully installed imantics-0.1.12 xmljson-0.2.1\n"
          ]
        }
      ]
    },
    {
      "cell_type": "code",
      "source": [
        "import os, json, numpy as np\n",
        "from tqdm import tqdm\n",
        "from imantics import Mask, Image, Category, Dataset\n",
        "import cv2"
      ],
      "metadata": {
        "id": "DTGPU55fhjiA"
      },
      "execution_count": null,
      "outputs": []
    },
    {
      "cell_type": "code",
      "source": [
        "val_img = []\n",
        "for img in os.listdir(r'/content/gdrive/MyDrive/VRDL_HW3/COCO/val/'):\n",
        "  val_img.append(img[:-4])"
      ],
      "metadata": {
        "id": "sYVw6HSy6zOb"
      },
      "execution_count": null,
      "outputs": []
    },
    {
      "cell_type": "code",
      "source": [
        "val_img"
      ],
      "metadata": {
        "colab": {
          "base_uri": "https://localhost:8080/"
        },
        "id": "hw1zSwLE7eNb",
        "outputId": "e7b7ceca-3c00-4f8a-b6c2-608962b3f7e6"
      },
      "execution_count": null,
      "outputs": [
        {
          "output_type": "execute_result",
          "data": {
            "text/plain": [
              "['TCGA-38-6178-01Z-00-DX1',\n",
              " 'TCGA-E2-A14V-01Z-00-DX1',\n",
              " 'TCGA-21-5786-01Z-00-DX1',\n",
              " 'TCGA-E2-A1B5-01Z-00-DX1']"
            ]
          },
          "metadata": {},
          "execution_count": 18
        }
      ]
    },
    {
      "cell_type": "code",
      "source": [
        "DATA_TorV = 'val'\n",
        "dataset = Dataset('ddd') \n",
        "\n",
        "if DATA_TorV == 'train':\n",
        "  print('prepare train.json')\n",
        "  f_id = 0\n",
        "  imgimg = train_img\n",
        "  file_path = '/content/gdrive/MyDrive/VRDL_HW3/COCO/train/'\n",
        "  json_name = 'train.json'\n",
        "else:\n",
        "  print('prepare val.json')\n",
        "  f_id = 20\n",
        "  imgimg = val_img\n",
        "  file_path = '/content/gdrive/MyDrive/VRDL_HW3/COCO/val/'\n",
        "  json_name = 'val.json'\n",
        "\n",
        "for x in imgimg :\n",
        "  \n",
        "  file = file_path + x +'.png'\n",
        "  image = cv2.imread(file)[:,:,::-1]\n",
        "  image = Image(image, id=f_id)\n",
        "  image.file_name = '{}.png'.format(x) \n",
        "  image.path = file \n",
        "  print(f_id)\n",
        "  print(file)\n",
        "\n",
        "  #mask\n",
        "  for m in os.listdir(r'/content/gdrive/MyDrive/VRDL_HW3/dataset/train/'+x+'/masks'):\n",
        "    if 'png' in m:\n",
        "      mask_file = '/content/gdrive/MyDrive/VRDL_HW3/dataset/train/'+x+'/masks/'+m\n",
        "      mask = cv2.imread(mask_file, 0)\n",
        "      #print(mask_file)\n",
        "      t = cv2.imread(file)\n",
        "      if t.shape[:-1] != mask.shape:\n",
        "        h, w, _ = t.shape\n",
        "        mask = cv2.resize(mask, (w, h), cv2.INTER_CUBIC)\n",
        "\n",
        "      t = Category(\"Nuclie\")\n",
        "      t.id = 1  # class id \n",
        "      mask = Mask(mask)\n",
        "      image.add(mask, t)\n",
        "\n",
        "  dataset.add(image)\n",
        "  f_id = f_id+1\n",
        "\n",
        "\n",
        "t = dataset.coco() # 将dataset转化为coco格式的，还可以转化为yolo等格式\n",
        "with open(json_name, 'w') as output_json_file: # 最后输出为json数据\n",
        "    json.dump(t, output_json_file, indent=4)"
      ],
      "metadata": {
        "colab": {
          "base_uri": "https://localhost:8080/"
        },
        "id": "PTPnihKuoChe",
        "outputId": "5ebaed50-0f68-494e-eb46-de5c81ea9b81"
      },
      "execution_count": null,
      "outputs": [
        {
          "output_type": "stream",
          "name": "stdout",
          "text": [
            "prepare val.json\n",
            "20\n",
            "/content/gdrive/MyDrive/VRDL_HW3/COCO/val/TCGA-38-6178-01Z-00-DX1.png\n",
            "21\n",
            "/content/gdrive/MyDrive/VRDL_HW3/COCO/val/TCGA-E2-A14V-01Z-00-DX1.png\n",
            "22\n",
            "/content/gdrive/MyDrive/VRDL_HW3/COCO/val/TCGA-21-5786-01Z-00-DX1.png\n",
            "23\n",
            "/content/gdrive/MyDrive/VRDL_HW3/COCO/val/TCGA-E2-A1B5-01Z-00-DX1.png\n"
          ]
        }
      ]
    },
    {
      "cell_type": "code",
      "source": [
        "#source = '/content/train.json'\n",
        "#destination = '/content/gdrive/MyDrive/VRDL_HW3/COCO/train/train.json' \n",
        "#shutil.copy(source, destination)"
      ],
      "metadata": {
        "id": "cyU6injJ2Ean"
      },
      "execution_count": null,
      "outputs": []
    },
    {
      "cell_type": "code",
      "source": [
        "source = '/content/val.json'\n",
        "destination = '/content/gdrive/MyDrive/VRDL_HW3/COCO/val/val.json' \n",
        "shutil.copy(source, destination)"
      ],
      "metadata": {
        "colab": {
          "base_uri": "https://localhost:8080/",
          "height": 35
        },
        "id": "-fgIy1Iy2Y28",
        "outputId": "49768a96-4986-4637-f00d-4a3bc3c03302"
      },
      "execution_count": null,
      "outputs": [
        {
          "output_type": "execute_result",
          "data": {
            "application/vnd.google.colaboratory.intrinsic+json": {
              "type": "string"
            },
            "text/plain": [
              "'/content/gdrive/MyDrive/VRDL_HW3/COCO/val/val.json'"
            ]
          },
          "metadata": {},
          "execution_count": 20
        }
      ]
    }
  ]
}